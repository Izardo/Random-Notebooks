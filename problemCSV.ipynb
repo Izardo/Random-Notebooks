{
 "cells": [
  {
   "cell_type": "code",
   "execution_count": null,
   "source": [
    "import csv\n",
    "# Imports bubble sort function from functions.py (handy for long programs)\n",
    "import functions"
   ],
   "outputs": [],
   "metadata": {}
  },
  {
   "cell_type": "code",
   "execution_count": null,
   "source": [
    "def countStudents(list):\n",
    "    \n",
    "    count = 0\n",
    "    for i in list:\n",
    "        count += 1\n",
    "    return count"
   ],
   "outputs": [],
   "metadata": {}
  },
  {
   "cell_type": "code",
   "execution_count": null,
   "source": [
    "def read_from_csv(filename, column):\n",
    "    \"\"\"\n",
    "        Loads data from CSV file and returns it line by line\n",
    "\n",
    "        :param list: file name\n",
    "        :returns: scores: data from CSV file\n",
    "    \"\"\" \n",
    "    scores = []\n",
    "    studentId = []\n",
    "\n",
    "    with open(filename, mode ='r') as file:   \n",
    "        csvFile = csv.DictReader(file)\n",
    "\n",
    "        if column == 'Score':\n",
    "            for lines in csvFile:\n",
    "                score = int(lines[column])\n",
    "                scores.append(score)  \n",
    "            return scores\n",
    "        elif column == 'StudentNumber':\n",
    "            for lines in csvFile:\n",
    "                studentId = int(lines[column])\n",
    "                studentId.append(studentId)  \n",
    "            return studentId"
   ],
   "outputs": [],
   "metadata": {}
  },
  {
   "cell_type": "code",
   "execution_count": null,
   "source": [
    "if __name__ == \"__main__\":\n",
    "    \n",
    "    scores = read_from_csv('example.csv', 'Score')\n",
    "    studentId = read_from_csv('example.csv', 'StudentNumber')\n",
    "\n",
    "    studentCount = countStudents(studentId)\n"
   ],
   "outputs": [],
   "metadata": {}
  }
 ],
 "metadata": {
  "kernelspec": {
   "display_name": "Python 3",
   "language": "python",
   "name": "python3"
  },
  "language_info": {
   "codemirror_mode": {
    "name": "ipython",
    "version": 3
   },
   "file_extension": ".py",
   "mimetype": "text/x-python",
   "name": "python",
   "nbconvert_exporter": "python",
   "pygments_lexer": "ipython3",
   "version": "3.8.5"
  }
 },
 "nbformat": 4,
 "nbformat_minor": 4
}